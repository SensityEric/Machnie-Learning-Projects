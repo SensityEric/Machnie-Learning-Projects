{
 "cells": [
  {
   "cell_type": "code",
   "execution_count": 4,
   "id": "3cb8a26e",
   "metadata": {},
   "outputs": [],
   "source": [
    "import pandas as pd \n",
    "import numpy as np\n",
    "# import decsion tree classifier\n",
    "from sklearn.tree import DecisionTreeClassifier\n",
    "from sklearn.model_selection import train_test_split # import train_test function\n",
    "from sklearn import metrics #import sklearn metric for accuracy calculation\n"
   ]
  },
  {
   "cell_type": "code",
   "execution_count": 10,
   "id": "def3c940",
   "metadata": {},
   "outputs": [
    {
     "data": {
      "text/plain": [
       "array([['company', 'job', 'degree'],\n",
       "       ['google', 'sale exective', 'bachelaors'],\n",
       "       ['google', 'sale exective', 'masters'],\n",
       "       ['google', 'business manager', 'bachelaors'],\n",
       "       ['google', 'business manager', 'masters'],\n",
       "       ['google', 'computer programmer', 'bachelaors'],\n",
       "       ['google', 'computer programmer', 'masters'],\n",
       "       ['abc pharma', 'sale exective', 'masters'],\n",
       "       ['abc pharma', 'computer programmer', 'bachelaors'],\n",
       "       ['abc pharma', 'business manager', 'bachelaors'],\n",
       "       ['abc pharma', 'business manager', 'masters'],\n",
       "       ['facebook', 'sale exective', 'bachelaors'],\n",
       "       ['facebook', 'sale exective', 'masters'],\n",
       "       ['facebook', 'business manager', 'bachelaors'],\n",
       "       ['facebook', 'business manager', 'masters'],\n",
       "       ['facebook', 'computer programmer', 'bachelaors'],\n",
       "       ['facebook', 'computer programmer', 'masters']], dtype=object)"
      ]
     },
     "execution_count": 10,
     "metadata": {},
     "output_type": "execute_result"
    }
   ],
   "source": [
    "col_names = [\"company\",\"job\",\"Degree\",\"salary_more_then_100k\"]\n",
    "df = pd.read_csv('salaries.csv', header=None, names =col_names)\n",
    "x =df.iloc[:,:3].values\n",
    "y =df.iloc[:,3].values"
   ]
  },
  {
   "cell_type": "code",
   "execution_count": 16,
   "id": "ff05b8a6",
   "metadata": {},
   "outputs": [
    {
     "data": {
      "text/plain": [
       "array(['salary_more_then_100k', '0', '0', '1', '1', '0', '1', '0', '0',\n",
       "       '0', '1', '1', '1', '1', '1', '1', '1'], dtype=object)"
      ]
     },
     "execution_count": 16,
     "metadata": {},
     "output_type": "execute_result"
    }
   ],
   "source": [
    "from sklearn import preprocessing \n",
    "label_encoder = preprocessing.LabelEncoder()\n",
    "df[\"company\"] = label_encoder.fit_transform(df[\"company\"])\n",
    "df[\"job\"] = label_encoder.fit_transform(df[\"job\"])\n",
    "df[\"Degree\"] = label_encoder.fit_transform(df[\"Degree\"])\n",
    "\n"
   ]
  },
  {
   "cell_type": "code",
   "execution_count": 25,
   "id": "5fdd9abf",
   "metadata": {},
   "outputs": [
    {
     "name": "stdout",
     "output_type": "stream",
     "text": [
      "    company  job  Degree\n",
      "0         1    2       1\n",
      "1         3    3       0\n",
      "2         3    3       2\n",
      "3         3    0       0\n",
      "4         3    0       2\n",
      "5         3    1       0\n",
      "6         3    1       2\n",
      "7         0    3       2\n",
      "8         0    1       0\n",
      "9         0    0       0\n",
      "10        0    0       2\n",
      "11        2    3       0\n",
      "12        2    3       2\n",
      "13        2    0       0\n",
      "14        2    0       2\n",
      "15        2    1       0\n",
      "16        2    1       2\n",
      "0     salary_more_then_100k\n",
      "1                         0\n",
      "2                         0\n",
      "3                         1\n",
      "4                         1\n",
      "5                         0\n",
      "6                         1\n",
      "7                         0\n",
      "8                         0\n",
      "9                         0\n",
      "10                        1\n",
      "11                        1\n",
      "12                        1\n",
      "13                        1\n",
      "14                        1\n",
      "15                        1\n",
      "16                        1\n",
      "Name: salary_more_then_100k, dtype: object\n"
     ]
    }
   ],
   "source": [
    "#slipt the dataset into features and target varaibles\n",
    "col_feature =[\"company\", 'job','Degree']\n",
    "x = df[col_feature]\n",
    "y = df['salary_more_then_100k']\n",
    "print(x)\n",
    "print(y)"
   ]
  },
  {
   "cell_type": "code",
   "execution_count": 26,
   "id": "e254fd11",
   "metadata": {},
   "outputs": [],
   "source": [
    "#slipt the data into training set and testing set\n",
    "x_train, x_test,y_train, y_test = train_test_split(x,y,test_size=0.2, \n",
    "                                                   random_state=100)"
   ]
  },
  {
   "cell_type": "code",
   "execution_count": 28,
   "id": "701a3dd0",
   "metadata": {},
   "outputs": [],
   "source": [
    "#create a decision tree classifier object using entropy\n",
    "clf_entropy = DecisionTreeClassifier(criterion=\"entropy\", max_depth=3)\n",
    "clf_entropy =clf_entropy.fit(x_train,y_train)"
   ]
  },
  {
   "cell_type": "code",
   "execution_count": 32,
   "id": "d799bb4c",
   "metadata": {},
   "outputs": [
    {
     "name": "stdout",
     "output_type": "stream",
     "text": [
      "Accuracy: 0.75\n"
     ]
    }
   ],
   "source": [
    "#Prediction \n",
    "y_pred = clf_entropy.predict(x_test)\n",
    "\n",
    "print(\"Accuracy:\", metrics.accuracy_score(y_test,y_pred))"
   ]
  },
  {
   "cell_type": "code",
   "execution_count": null,
   "id": "13cd56e0",
   "metadata": {},
   "outputs": [],
   "source": []
  }
 ],
 "metadata": {
  "kernelspec": {
   "display_name": "Python 3 (ipykernel)",
   "language": "python",
   "name": "python3"
  },
  "language_info": {
   "codemirror_mode": {
    "name": "ipython",
    "version": 3
   },
   "file_extension": ".py",
   "mimetype": "text/x-python",
   "name": "python",
   "nbconvert_exporter": "python",
   "pygments_lexer": "ipython3",
   "version": "3.9.7"
  }
 },
 "nbformat": 4,
 "nbformat_minor": 5
}
